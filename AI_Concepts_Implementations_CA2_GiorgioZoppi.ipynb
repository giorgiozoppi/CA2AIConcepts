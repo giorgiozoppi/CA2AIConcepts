{
 "cells": [
  {
   "cell_type": "markdown",
   "id": "3ad285d0",
   "metadata": {},
   "source": [
    "# Task1: Write a Python code for this problem using the relevant libraries. "
   ]
  },
  {
   "cell_type": "markdown",
   "id": "83051c5f",
   "metadata": {},
   "source": [
    "We create a Tree, definining its node. By default we assume that beta = infinite and alfa=- infinite. The algoritm of minmax we're implementing is quite simple. We recursively go down the stack and compute the values of alpha e beta."
   ]
  },
  {
   "cell_type": "code",
   "execution_count": 17,
   "id": "7ba96d4c",
   "metadata": {},
   "outputs": [],
   "source": [
    "class TreeNode:\n",
    "    def __init__(self,value = None):\n",
    "        self.alfa = float('-inf')\n",
    "        self.beta = float('inf')\n",
    "        self.value = value\n",
    "        self.children = []\n",
    "        self.parent = None\n",
    "    def is_leaf(self):\n",
    "        return len(self.children) == 0"
   ]
  },
  {
   "cell_type": "markdown",
   "id": "90192d45",
   "metadata": {},
   "source": [
    "This is the minmax algorithm. We visit in DFS the tree defined above and compute the max. Typically in games each minmax level \n",
    "changes. The max become min level as soon we go down and viceverse."
   ]
  },
  {
   "cell_type": "code",
   "execution_count": 18,
   "id": "bc7d47aa",
   "metadata": {},
   "outputs": [],
   "source": [
    "def minimax(node, depth, isMaxLevel, alpha, beta):\n",
    "    if depth == 0 or node.is_leaf():\n",
    "        return node.value\n",
    "    # maxPlayer determine if it is a max level\n",
    "    if isMaxLevel:\n",
    "        max_eval = float('-inf')\n",
    "        for child in node.children:\n",
    "            current_eval = minimax(child, depth - 1, False, alpha, beta)\n",
    "            max_eval = max(max_eval, current_eval)\n",
    "            alpha = max(alpha, max_eval)\n",
    "            child.alpha = alpha\n",
    "            print(f'Value = {child.value}, Alpha={alpha} Beta={beta}')\n",
    "            if beta <= alpha:\n",
    "                print(f'Pruning : {beta}<={alpha}')\n",
    "                break\n",
    "        return max_eval\n",
    "    else:\n",
    "        minval = float('inf')\n",
    "        for child in node.children:\n",
    "            value = minimax(child, depth - 1, True, alpha, beta)\n",
    "            minval = min(minval, value)\n",
    "            beta = min(beta, minval)\n",
    "            child.beta = beta\n",
    "            print(f'Value = {child.value}, Alpha={alpha} Beta={beta}')\n",
    "            if beta <= alpha:\n",
    "                print(f'Pruning : {beta}<={alpha}')\n",
    "                break\n",
    "        return minval\n"
   ]
  },
  {
   "cell_type": "code",
   "execution_count": 19,
   "id": "e30eaa24",
   "metadata": {},
   "outputs": [
    {
     "name": "stdout",
     "output_type": "stream",
     "text": [
      "Value = 5.0, Alpha=5.0 Beta=inf\n",
      "Value = 1.0, Alpha=5.0 Beta=inf\n",
      "Value = 4.0, Alpha=5.0 Beta=4.0\n",
      "Pruning : 4.0<=5.0\n",
      "Value = None, Alpha=5.0 Beta=inf\n",
      "Value = None, Alpha=5.0 Beta=4.0\n",
      "Pruning : 4.0<=5.0\n",
      "Value = None, Alpha=5.0 Beta=inf\n",
      "Goal 5.0\n"
     ]
    }
   ],
   "source": [
    "\n",
    "def build_sample_tree() -> TreeNode:\n",
    "    root = TreeNode()\n",
    "    left_tree = TreeNode(5.0)\n",
    "    left_tree.parent = root\n",
    "    right_tree = TreeNode()\n",
    "    right_tree.parent = root\n",
    "\n",
    "    right_tree_subtree_right = TreeNode()\n",
    "    right_tree_subtree_left = TreeNode()\n",
    "\n",
    "    right_tree_subtree_right.parent = right_tree\n",
    "    right_tree_subtree_left.parent = right_tree\n",
    "\n",
    "    right_tree_subtree_left_right_right = TreeNode()\n",
    "    right_tree_subtree_left_right_right.children = [TreeNode(4.0), TreeNode(2.0)]\n",
    "    right_tree_subtree_left.children = [TreeNode(1.0), right_tree_subtree_left_right_right]\n",
    "    \n",
    "    right_tree_subtree_right = TreeNode()\n",
    "    right_tree_subtree_right_right = TreeNode()\n",
    "    right_tree_subtree_right.children = [ TreeNode(5.0), right_tree_subtree_right_right]\n",
    "    right_tree_subtree_right_right.children = [ TreeNode(4.0), TreeNode(3.0)]\n",
    "    # add subtree\n",
    "    right_tree.children = [ right_tree_subtree_left, right_tree_subtree_right]\n",
    "    root.children = [left_tree, right_tree]\n",
    "    return root\n",
    "    \n",
    "\n",
    "\n",
    "if __name__==\"__main__\":    \n",
    "    root = build_sample_tree()\n",
    "    best_value = minimax(root, 6, True, float('-inf'), float('+inf'))\n",
    "    print(f\"Goal {best_value}\")"
   ]
  },
  {
   "cell_type": "markdown",
   "id": "43fd93df",
   "metadata": {},
   "source": [
    "# Task2 :Create a Jupyter Notebook to solve this constraint satisfaction problem using appropriate Python libraries. Use markdown cells to provide a description of what your code is doing."
   ]
  },
  {
   "cell_type": "markdown",
   "id": "671c2cab",
   "metadata": {},
   "source": [
    "Assumptions:\n",
    "   - We had fix Anna to the last 2 shifts to reduce the space of the solutins.\n",
    "   - Each shift can be covered only by one staff member.\n",
    "   - Each staff member should cover as equal as several shifts as possible over the four days."
   ]
  },
  {
   "cell_type": "markdown",
   "id": "5d2dd3a0",
   "metadata": {},
   "source": [
    "We provide comments inside the code and avoid to split the function."
   ]
  },
  {
   "cell_type": "code",
   "execution_count": 20,
   "id": "8779dfa3",
   "metadata": {},
   "outputs": [
    {
     "name": "stdout",
     "output_type": "stream",
     "text": [
      "Requirement already satisfied: ortools in /home/jozoppi/.cache/pypoetry/virtualenvs/ca2aiconcepts-Si4vH_4e-py3.10/lib/python3.10/site-packages (9.10.4067)\n",
      "Requirement already satisfied: absl-py>=2.0.0 in /home/jozoppi/.cache/pypoetry/virtualenvs/ca2aiconcepts-Si4vH_4e-py3.10/lib/python3.10/site-packages (from ortools) (2.1.0)\n",
      "Requirement already satisfied: numpy>=1.13.3 in /home/jozoppi/.cache/pypoetry/virtualenvs/ca2aiconcepts-Si4vH_4e-py3.10/lib/python3.10/site-packages (from ortools) (1.26.4)\n",
      "Requirement already satisfied: pandas>=2.0.0 in /home/jozoppi/.cache/pypoetry/virtualenvs/ca2aiconcepts-Si4vH_4e-py3.10/lib/python3.10/site-packages (from ortools) (2.2.2)\n",
      "Requirement already satisfied: protobuf>=5.26.1 in /home/jozoppi/.cache/pypoetry/virtualenvs/ca2aiconcepts-Si4vH_4e-py3.10/lib/python3.10/site-packages (from ortools) (5.26.1)\n",
      "Requirement already satisfied: immutabledict>=3.0.0 in /home/jozoppi/.cache/pypoetry/virtualenvs/ca2aiconcepts-Si4vH_4e-py3.10/lib/python3.10/site-packages (from ortools) (4.2.0)\n",
      "Requirement already satisfied: python-dateutil>=2.8.2 in /home/jozoppi/.cache/pypoetry/virtualenvs/ca2aiconcepts-Si4vH_4e-py3.10/lib/python3.10/site-packages (from pandas>=2.0.0->ortools) (2.9.0.post0)\n",
      "Requirement already satisfied: pytz>=2020.1 in /home/jozoppi/.cache/pypoetry/virtualenvs/ca2aiconcepts-Si4vH_4e-py3.10/lib/python3.10/site-packages (from pandas>=2.0.0->ortools) (2024.1)\n",
      "Requirement already satisfied: tzdata>=2022.7 in /home/jozoppi/.cache/pypoetry/virtualenvs/ca2aiconcepts-Si4vH_4e-py3.10/lib/python3.10/site-packages (from pandas>=2.0.0->ortools) (2024.1)\n",
      "Requirement already satisfied: six>=1.5 in /home/jozoppi/.cache/pypoetry/virtualenvs/ca2aiconcepts-Si4vH_4e-py3.10/lib/python3.10/site-packages (from python-dateutil>=2.8.2->pandas>=2.0.0->ortools) (1.16.0)\n",
      "\n",
      "\u001b[1m[\u001b[0m\u001b[34;49mnotice\u001b[0m\u001b[1;39;49m]\u001b[0m\u001b[39;49m A new release of pip is available: \u001b[0m\u001b[31;49m23.3.2\u001b[0m\u001b[39;49m -> \u001b[0m\u001b[32;49m24.0\u001b[0m\n",
      "\u001b[1m[\u001b[0m\u001b[34;49mnotice\u001b[0m\u001b[1;39;49m]\u001b[0m\u001b[39;49m To update, run: \u001b[0m\u001b[32;49mpip install --upgrade pip\u001b[0m\n"
     ]
    }
   ],
   "source": [
    "!pip install ortools"
   ]
  },
  {
   "cell_type": "code",
   "execution_count": 21,
   "id": "fb6bd203",
   "metadata": {},
   "outputs": [],
   "source": [
    "from ortools.sat.python import cp_model"
   ]
  },
  {
   "cell_type": "markdown",
   "id": "7ee0db72",
   "metadata": {},
   "source": [
    "Creare the CSP model using orttools"
   ]
  },
  {
   "cell_type": "code",
   "execution_count": 22,
   "id": "2436c2ec",
   "metadata": {},
   "outputs": [],
   "source": [
    "model = cp_model.CpModel()"
   ]
  },
  {
   "cell_type": "markdown",
   "id": "3990f8c7",
   "metadata": {},
   "source": [
    "Set the staff and mapping to daily slot"
   ]
  },
  {
   "cell_type": "code",
   "execution_count": 23,
   "id": "7a4112ac",
   "metadata": {},
   "outputs": [],
   "source": [
    "staff = ['Mark', 'Judy', 'Colm', 'Dave', 'Jane', 'Anne', 'Gavin', 'Tanya']\n",
    "mapped_hours = { key: value for key, value in zip(range(9,19), range(0,10)) }\n",
    "staff_time_slots = {'Mark': (9, 14), \n",
    "                        'Judy': (10, 15),\n",
    "                        'Colm': (13, 15),\n",
    "                        'Dave': (11, 12),\n",
    "                        'Jane': (10, 13),\n",
    "                        'Anne': (14, 18),\n",
    "                        'Gavin': (13, 17),\n",
    "                        'Tanya': (9, 15)}\n",
    "    \n",
    "num_days = 4\n",
    "hours_per_day = 9  # From 9:00 to 18:00\n"
   ]
  },
  {
   "cell_type": "markdown",
   "id": "f2e52f5e",
   "metadata": {},
   "source": [
    "Now we need to create shift variables."
   ]
  },
  {
   "cell_type": "code",
   "execution_count": 24,
   "id": "5b1b00dc",
   "metadata": {},
   "outputs": [],
   "source": [
    "# Create shift variables\n",
    "shifts = {}\n",
    "for day in range(num_days):\n",
    "    for hour in range(hours_per_day):\n",
    "        for s in range(len(staff)):\n",
    "            shifts[(day, hour, s)] = model.new_bool_var(f'shift_{day}_{hour}_{staff[s]}')\n"
   ]
  },
  {
   "cell_type": "code",
   "execution_count": 25,
   "id": "bc3b99f5",
   "metadata": {},
   "outputs": [],
   "source": [
    "for day in range(num_days):\n",
    "    for hour in range(hours_per_day):\n",
    "        model.add_exactly_one(shifts[(day, hour, s)] for s in range(len(staff)))\n",
    "    \n",
    "    "
   ]
  },
  {
   "cell_type": "code",
   "execution_count": 26,
   "id": "4b26736f",
   "metadata": {},
   "outputs": [],
   "source": [
    "# everyone should work.\n",
    "for s in range(len(staff)):\n",
    "    for day in range(num_days):\n",
    "        shift_sum = sum(shifts[(day, hour, s)] for hour in range(hours_per_day)) >= 1\n",
    "        model.add(shift_sum)\n"
   ]
  },
  {
   "cell_type": "code",
   "execution_count": 27,
   "id": "e5308280",
   "metadata": {},
   "outputs": [],
   "source": [
    "# Each member the staff except Anne, will work just one shift\n",
    "#for staff_index in  range(len(staff)):\n",
    "#    for day in range(num_days):\n",
    "#        annie_index = staff.index('Anne')\n",
    "#        if annie_index != staff_index:\n",
    "#            model.add_at_most_one(shifts[(day,hour,staff_index)] for hour in range(hours_per_day))\n",
    "    "
   ]
  },
  {
   "cell_type": "code",
   "execution_count": 28,
   "id": "cd92b683",
   "metadata": {},
   "outputs": [],
   "source": [
    "# Each staff member can only work within their available times\n",
    "for name in staff:\n",
    "    staff_index = staff.index(name)\n",
    "    for day in range(num_days):\n",
    "        for hour in range(hours_per_day):\n",
    "            start = staff_time_slots[name][0]\n",
    "            end = staff_time_slots[name][1]\n",
    "            if hour < mapped_hours[start] or hour >= mapped_hours[end]:  \n",
    "                model.add(shifts[(day, hour, staff_index)] == 0)    \n"
   ]
  },
  {
   "cell_type": "code",
   "execution_count": 29,
   "id": "30bae6a6",
   "metadata": {},
   "outputs": [],
   "source": [
    "# Try to distribute the shifts evenly between all except annie\n",
    "min_shift_per_staff = (hours_per_day * num_days) // (len(staff) - 1)\n",
    "if hours_per_day * num_days % (len(staff) -1) == 0:\n",
    "    max_shifts_per_staff = min_shift_per_staff\n",
    "else:\n",
    "    max_shifts_per_staff = min_shift_per_staff + 1\n",
    "    \n",
    "for staff_index in range(len(staff)):\n",
    "    annie_index = staff.index('Anne')\n",
    "    if staff_index != annie_index:\n",
    "        shifts_worked = []\n",
    "        for day in range(num_days):\n",
    "            for hour in range(hours_per_day):\n",
    "                shifts_worked.append(shifts[(day, hour, staff_index)])\n",
    "        model.add(max_shifts_per_staff <= sum(shifts_worked))\n",
    "        model.add(sum(shifts_worked) <= max_shifts_per_staff)\n",
    "    "
   ]
  },
  {
   "cell_type": "code",
   "execution_count": 30,
   "id": "58134101",
   "metadata": {},
   "outputs": [],
   "source": [
    "# Solve the model\n",
    "solver = cp_model.CpSolver()\n",
    "solver.parameters.linearization_level = 0\n",
    "solver.parameters.enumerate_all_solutions = True"
   ]
  },
  {
   "cell_type": "code",
   "execution_count": 31,
   "id": "5718ef9d",
   "metadata": {},
   "outputs": [],
   "source": [
    "class ReceptionistShiftPrinter(cp_model.CpSolverSolutionCallback):\n",
    "    def __init__(self, shifts, num_days, hours_per_day, staff):\n",
    "        cp_model.CpSolverSolutionCallback.__init__(self)\n",
    "        self._shifts = shifts\n",
    "        self._num_days = num_days\n",
    "        self._hours_per_day = hours_per_day\n",
    "        self._staff = staff\n",
    "        self.solution_count = 0\n",
    "        \n",
    "    def OnSolutionCallback(self):\n",
    "        self.solution_count += 1\n",
    "        print(f'Solution {self.solution_count}')\n"
   ]
  },
  {
   "cell_type": "code",
   "execution_count": 32,
   "id": "4357c8ab",
   "metadata": {},
   "outputs": [
    {
     "name": "stdout",
     "output_type": "stream",
     "text": [
      "Number of solutions found: 0\n"
     ]
    }
   ],
   "source": [
    "# Create the solution printer and solve\n",
    "solution_printer = ReceptionistShiftPrinter(shifts, num_days, hours_per_day, staff)\n",
    "solver.parameters.max_time_in_seconds = 10.0\n",
    "solver.Solve(model, solution_printer)\n",
    "print(f'Number of solutions found: {solution_printer.solution_count}')\n"
   ]
  },
  {
   "cell_type": "code",
   "execution_count": null,
   "id": "a8f2d2cd",
   "metadata": {},
   "outputs": [],
   "source": []
  },
  {
   "cell_type": "code",
   "execution_count": null,
   "id": "f429a028",
   "metadata": {},
   "outputs": [],
   "source": []
  }
 ],
 "metadata": {
  "kernelspec": {
   "display_name": "Python 3 (ipykernel)",
   "language": "python",
   "name": "python3"
  },
  "language_info": {
   "codemirror_mode": {
    "name": "ipython",
    "version": 3
   },
   "file_extension": ".py",
   "mimetype": "text/x-python",
   "name": "python",
   "nbconvert_exporter": "python",
   "pygments_lexer": "ipython3",
   "version": "3.10.12"
  }
 },
 "nbformat": 4,
 "nbformat_minor": 5
}
